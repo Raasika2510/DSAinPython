{
  "nbformat": 4,
  "nbformat_minor": 0,
  "metadata": {
    "colab": {
      "provenance": []
    },
    "kernelspec": {
      "name": "python3",
      "display_name": "Python 3"
    },
    "language_info": {
      "name": "python"
    }
  },
  "cells": [
    {
      "cell_type": "markdown",
      "source": [],
      "metadata": {
        "id": "tzaQBjnjHrwy"
      }
    },
    {
      "cell_type": "markdown",
      "source": [
        "### **LIST-** Sequencial container for storing elements of multiple data types. The elements of a list can be changed in their place without causing in chnage in the address unlike strings. Hence, they are called mutable in Nature. "
      ],
      "metadata": {
        "id": "-ial39lRHtY6"
      }
    },
    {
      "cell_type": "markdown",
      "source": [
        "*CREATING A LIST*\n"
      ],
      "metadata": {
        "id": "V5lumgSqIpRp"
      }
    },
    {
      "cell_type": "code",
      "source": [
        "lst1=list(input(\"Enter the sequence:\"))\n",
        "print(lst1)"
      ],
      "metadata": {
        "colab": {
          "base_uri": "https://localhost:8080/"
        },
        "id": "fdO0bJ1_I0D4",
        "outputId": "6e9e3233-e012-4bba-9bc9-d62a58b93837"
      },
      "execution_count": 1,
      "outputs": [
        {
          "output_type": "stream",
          "name": "stdout",
          "text": [
            "Enter the sequence:gar4563h\n",
            "['g', 'a', 'r', '4', '5', '6', '3', 'h']\n"
          ]
        }
      ]
    },
    {
      "cell_type": "code",
      "source": [
        "str1=\"DATASTRUCTURES\"\n",
        "tup1=('a','b','c')\n",
        "print(list(str1),list(tup1))"
      ],
      "metadata": {
        "colab": {
          "base_uri": "https://localhost:8080/"
        },
        "id": "6fufs9TwJGln",
        "outputId": "e26fac64-7e69-43db-9b0c-f97717b4441a"
      },
      "execution_count": 2,
      "outputs": [
        {
          "output_type": "stream",
          "name": "stdout",
          "text": [
            "['D', 'A', 'T', 'A', 'S', 'T', 'R', 'U', 'C', 'T', 'U', 'R', 'E', 'S'] ['a', 'b', 'c']\n"
          ]
        }
      ]
    },
    {
      "cell_type": "code",
      "source": [
        "l=[1,2,3]\n",
        "l1=[l,'w',1.00]\n",
        "print(l1)"
      ],
      "metadata": {
        "colab": {
          "base_uri": "https://localhost:8080/"
        },
        "id": "eBnv-zHQJh1A",
        "outputId": "af43e01c-38a2-427c-bc41-30c38411c392"
      },
      "execution_count": 4,
      "outputs": [
        {
          "output_type": "stream",
          "name": "stdout",
          "text": [
            "[[1, 2, 3], 'w', 1.0]\n"
          ]
        }
      ]
    },
    {
      "cell_type": "markdown",
      "source": [
        "*LIST TRAVERSAL*"
      ],
      "metadata": {
        "id": "TENVT-taJ1xZ"
      }
    },
    {
      "cell_type": "code",
      "source": [
        "lst1=list(input(\"Enter the elements :\"))\n",
        "for i in lst1:\n",
        "  print(i)"
      ],
      "metadata": {
        "colab": {
          "base_uri": "https://localhost:8080/"
        },
        "id": "yoKCxNXxJ9gR",
        "outputId": "fe201b1c-253d-45c1-f491-5c59136252ef"
      },
      "execution_count": 5,
      "outputs": [
        {
          "output_type": "stream",
          "name": "stdout",
          "text": [
            "Enter the elementsraasika\n",
            "r\n",
            "a\n",
            "a\n",
            "s\n",
            "i\n",
            "k\n",
            "a\n"
          ]
        }
      ]
    },
    {
      "cell_type": "code",
      "source": [
        "lst2=list(input(\"ENter the elements :\"))\n",
        "for i in range(len(lst2)):\n",
        "  print(\"Index no :\",i,\"Element :\",lst2[i])"
      ],
      "metadata": {
        "colab": {
          "base_uri": "https://localhost:8080/"
        },
        "id": "jFIYmUwuKJuZ",
        "outputId": "d09c7154-0064-4423-bdbe-84579995fd91"
      },
      "execution_count": 6,
      "outputs": [
        {
          "output_type": "stream",
          "name": "stdout",
          "text": [
            "ENter the elements :raasika\n",
            "Index no : 0 Element : r\n",
            "Index no : 1 Element : a\n",
            "Index no : 2 Element : a\n",
            "Index no : 3 Element : s\n",
            "Index no : 4 Element : i\n",
            "Index no : 5 Element : k\n",
            "Index no : 6 Element : a\n"
          ]
        }
      ]
    },
    {
      "cell_type": "markdown",
      "source": [
        "## **LIST OPERATIONS**"
      ],
      "metadata": {
        "id": "VeicXXwKOA6q"
      }
    },
    {
      "cell_type": "markdown",
      "source": [
        "*COMPARISON OPERATORS ON LIST*"
      ],
      "metadata": {
        "id": "huAVAimNOXnn"
      }
    },
    {
      "cell_type": "code",
      "source": [
        "print([1,2,3]==[1,2,3]) #Same elemets --> TRUE\n",
        "print([1,2,3]==[1,[2],3]) #Nested loop --> FALSE\n",
        "print([1,2,3]!=[1,[2],3]) #Nested loop --> TRUE\n",
        "print(['1','2','3']==[1,2,3]) #Different Data types --> FALSE\n",
        "print([1.0,2.0,3.0]==[1,2,3]) #Integers --> TRUE\n",
        "print([7,5,3]<[9,1]) # Compares the first different element --> TRUE\n",
        "print([1,2,3,4]>[1,2,3,8]) #Compares the forth different element --> FALSE"
      ],
      "metadata": {
        "colab": {
          "base_uri": "https://localhost:8080/"
        },
        "id": "ZT-DP6WxOj7s",
        "outputId": "3bcd1e54-7a17-4dbf-8711-23407bd3fe43"
      },
      "execution_count": 21,
      "outputs": [
        {
          "output_type": "stream",
          "name": "stdout",
          "text": [
            "True\n",
            "False\n",
            "True\n",
            "False\n",
            "True\n",
            "True\n",
            "False\n"
          ]
        }
      ]
    },
    {
      "cell_type": "markdown",
      "source": [
        "*LIST CONCATENATION*"
      ],
      "metadata": {
        "id": "cFCfcnaWP1Ew"
      }
    },
    {
      "cell_type": "code",
      "source": [
        "lst1=[2,3,4]\n",
        "lst2=[6,7,8]\n",
        "lst3=[9,10,100]\n",
        "print(lst1+lst2+lst3)\n",
        "res=[*lst1,*lst2,*lst3]\n",
        "print(res)"
      ],
      "metadata": {
        "colab": {
          "base_uri": "https://localhost:8080/"
        },
        "id": "tWPNzarnP59g",
        "outputId": "d7ccfaa2-ef4b-4bb7-ed7f-c17359899889"
      },
      "execution_count": 25,
      "outputs": [
        {
          "output_type": "stream",
          "name": "stdout",
          "text": [
            "[2, 3, 4, 6, 7, 8, 9, 10, 100]\n",
            "[2, 3, 4, 6, 7, 8, 9, 10, 100]\n"
          ]
        }
      ]
    },
    {
      "cell_type": "markdown",
      "source": [],
      "metadata": {
        "id": "SJeIPSlPRF10"
      }
    },
    {
      "cell_type": "markdown",
      "source": [
        "*LIST REPLICATION*"
      ],
      "metadata": {
        "id": "l_18Iu_sRF-1"
      }
    },
    {
      "cell_type": "code",
      "source": [
        "lst1=[1,2,3]\n",
        "print(lst1*3)\n",
        "print(lst1*8)"
      ],
      "metadata": {
        "colab": {
          "base_uri": "https://localhost:8080/"
        },
        "id": "IAXDrh7kRLJH",
        "outputId": "050249c9-5f98-4f5c-c650-fecccd59235a"
      },
      "execution_count": 28,
      "outputs": [
        {
          "output_type": "stream",
          "name": "stdout",
          "text": [
            "[1, 2, 3, 1, 2, 3, 1, 2, 3]\n",
            "[1, 2, 3, 1, 2, 3, 1, 2, 3, 1, 2, 3, 1, 2, 3, 1, 2, 3, 1, 2, 3, 1, 2, 3]\n"
          ]
        }
      ]
    },
    {
      "cell_type": "markdown",
      "source": [
        "*LIST SLICING*"
      ],
      "metadata": {
        "id": "rBjDVO6GRoVn"
      }
    },
    {
      "cell_type": "code",
      "source": [
        "lst2=[1,2,3,4]\n",
        "lst3=lst2[2:4]\n",
        "print(lst3)"
      ],
      "metadata": {
        "colab": {
          "base_uri": "https://localhost:8080/"
        },
        "id": "EnP-xJ_XQzr6",
        "outputId": "21dbee1f-4e02-4c49-a952-fbc79f0079a9"
      },
      "execution_count": 30,
      "outputs": [
        {
          "output_type": "stream",
          "name": "stdout",
          "text": [
            "[3, 4]\n"
          ]
        }
      ]
    },
    {
      "cell_type": "code",
      "source": [
        "lst2=[2,3,4,5,6,7]\n",
        "lst3=lst2[::3]\n",
        "print(lst3)"
      ],
      "metadata": {
        "colab": {
          "base_uri": "https://localhost:8080/"
        },
        "id": "8Rvx49iOSHb0",
        "outputId": "d52e0648-f052-4da2-bfaa-a02e5d56e543"
      },
      "execution_count": 35,
      "outputs": [
        {
          "output_type": "stream",
          "name": "stdout",
          "text": [
            "[2, 5]\n"
          ]
        }
      ]
    },
    {
      "cell_type": "code",
      "source": [
        "lst2=[87,76,65,54,43,32,21,65,54]\n",
        "lst3=lst2[3:-1:2]\n",
        "print(lst3)"
      ],
      "metadata": {
        "colab": {
          "base_uri": "https://localhost:8080/"
        },
        "id": "SCwlkFIzSqIw",
        "outputId": "9be9c196-e9ee-4ea4-b518-98e141a98589"
      },
      "execution_count": 37,
      "outputs": [
        {
          "output_type": "stream",
          "name": "stdout",
          "text": [
            "[54, 32, 65]\n"
          ]
        }
      ]
    },
    {
      "cell_type": "markdown",
      "source": [
        "## **FUNCTIONS AND METHODS IN LISTS**"
      ],
      "metadata": {
        "id": "hWYc37SLS8UO"
      }
    },
    {
      "cell_type": "markdown",
      "source": [
        "*APPEND()*"
      ],
      "metadata": {
        "id": "_3jQiPmBTd5g"
      }
    },
    {
      "cell_type": "code",
      "source": [
        "lst1=[1,2,3,4]\n",
        "for i in range(5,11):\n",
        "  lst1.append(i)\n",
        "print(lst1)"
      ],
      "metadata": {
        "colab": {
          "base_uri": "https://localhost:8080/"
        },
        "id": "dgJdpd-8TmLe",
        "outputId": "dad5ae71-d6d1-4659-c19a-28b960fb629c"
      },
      "execution_count": 38,
      "outputs": [
        {
          "output_type": "stream",
          "name": "stdout",
          "text": [
            "[1, 2, 3, 4, 5, 6, 7, 8, 9, 10]\n"
          ]
        }
      ]
    },
    {
      "cell_type": "markdown",
      "source": [
        "*UPDATING A ELEMENT*"
      ],
      "metadata": {
        "id": "-L6fG7V9Tz4e"
      }
    },
    {
      "cell_type": "code",
      "source": [
        "lst1=[1,2,3,4]\n",
        "lst1[2]=9\n",
        "print(lst1)"
      ],
      "metadata": {
        "colab": {
          "base_uri": "https://localhost:8080/"
        },
        "id": "ltjkFUAaT5Wt",
        "outputId": "9f4f17e9-ed36-4110-de37-bf952f489524"
      },
      "execution_count": 39,
      "outputs": [
        {
          "output_type": "stream",
          "name": "stdout",
          "text": [
            "[1, 2, 9, 4]\n"
          ]
        }
      ]
    },
    {
      "cell_type": "code",
      "source": [
        "lst1=['a','b','c']\n",
        "lst1[1]=\"UPDATE\"\n",
        "print(lst1)"
      ],
      "metadata": {
        "colab": {
          "base_uri": "https://localhost:8080/"
        },
        "id": "VfNntfIwUCYg",
        "outputId": "4d514d9b-4eb2-4124-c1ac-127de68bb818"
      },
      "execution_count": 40,
      "outputs": [
        {
          "output_type": "stream",
          "name": "stdout",
          "text": [
            "['a', 'UPDATE', 'c']\n"
          ]
        }
      ]
    },
    {
      "cell_type": "code",
      "source": [
        "lst1=[12,34,32,12,34,5,65,76,87,9845]\n",
        "lst1[0:5:2]=[0,0,0]\n",
        "print(lst1)"
      ],
      "metadata": {
        "colab": {
          "base_uri": "https://localhost:8080/"
        },
        "id": "l3-3ftbfUU7U",
        "outputId": "73947c6b-4bf4-436f-c40e-f0f1d27f263c"
      },
      "execution_count": 42,
      "outputs": [
        {
          "output_type": "stream",
          "name": "stdout",
          "text": [
            "[0, 34, 0, 12, 0, 5, 65, 76, 87, 9845]\n"
          ]
        }
      ]
    },
    {
      "cell_type": "markdown",
      "source": [
        "*DELETING ELEMENTS IN LIST*"
      ],
      "metadata": {
        "id": "DIRSZMBpUqdn"
      }
    },
    {
      "cell_type": "code",
      "source": [
        "lst1=[23,43,54,56,87,98]\n",
        "del lst1[0:3]\n",
        "print(lst1)"
      ],
      "metadata": {
        "colab": {
          "base_uri": "https://localhost:8080/"
        },
        "id": "1nWDwJZsU5jH",
        "outputId": "7166376e-8e45-4bfc-a68f-4af1d00659a0"
      },
      "execution_count": 43,
      "outputs": [
        {
          "output_type": "stream",
          "name": "stdout",
          "text": [
            "[56, 87, 98]\n"
          ]
        }
      ]
    },
    {
      "cell_type": "code",
      "source": [
        "lst1=[5,6,7,8,9,3]\n",
        "item=lst1.pop(4)\n",
        "print(lst1,item)\n"
      ],
      "metadata": {
        "colab": {
          "base_uri": "https://localhost:8080/"
        },
        "id": "9DSEnF7uVHFH",
        "outputId": "a2de1dec-228a-44c1-b718-66217cbce37a"
      },
      "execution_count": 46,
      "outputs": [
        {
          "output_type": "stream",
          "name": "stdout",
          "text": [
            "[5, 6, 7, 8, 3] 9\n"
          ]
        }
      ]
    },
    {
      "cell_type": "markdown",
      "source": [
        "*INDEX()*"
      ],
      "metadata": {
        "id": "x3Tl8FrVVu9v"
      }
    },
    {
      "cell_type": "code",
      "source": [
        "lst1=[1,2,3,4]\n",
        "print(lst1.index(2))"
      ],
      "metadata": {
        "colab": {
          "base_uri": "https://localhost:8080/"
        },
        "id": "sHRhvrM5VzWA",
        "outputId": "5b8fd7f9-1b2f-4535-eac3-65b9b7011f19"
      },
      "execution_count": 47,
      "outputs": [
        {
          "output_type": "stream",
          "name": "stdout",
          "text": [
            "1\n"
          ]
        }
      ]
    },
    {
      "cell_type": "markdown",
      "source": [
        "*EXTEND(*)"
      ],
      "metadata": {
        "id": "Z-tOCwrrV_K0"
      }
    },
    {
      "cell_type": "code",
      "source": [
        "lst1=[1,2,3,4]\n",
        "lst2=[\"python\",\"java\",\"c++\"]\n",
        "lst2.extend(lst1)\n",
        "print(lst2)"
      ],
      "metadata": {
        "colab": {
          "base_uri": "https://localhost:8080/"
        },
        "id": "X0duTxsqWB_G",
        "outputId": "16b31f44-94c1-4bf2-c039-282e5b0b1084"
      },
      "execution_count": 49,
      "outputs": [
        {
          "output_type": "stream",
          "name": "stdout",
          "text": [
            "['python', 'java', 'c++', 1, 2, 3, 4]\n"
          ]
        }
      ]
    },
    {
      "cell_type": "markdown",
      "source": [
        "*INSERT(), REMOVE(), CLEAR(), REVERSE(), SORT()*"
      ],
      "metadata": {
        "id": "w21wMaQIXLCY"
      }
    },
    {
      "cell_type": "code",
      "source": [
        "lst1=[1,2,3,4,5]\n",
        "lst1.insert(2,'a')\n",
        "print(lst1)"
      ],
      "metadata": {
        "colab": {
          "base_uri": "https://localhost:8080/"
        },
        "id": "71zdxpuWX2lq",
        "outputId": "1697f67c-30cc-428d-f1eb-c2b41a4a1a4b"
      },
      "execution_count": 50,
      "outputs": [
        {
          "output_type": "stream",
          "name": "stdout",
          "text": [
            "[1, 2, 'a', 3, 4, 5]\n"
          ]
        }
      ]
    },
    {
      "cell_type": "code",
      "source": [
        "lst1=[23,43,3,5,3,54,65,78]\n",
        "lst1.remove(3)\n",
        "print(lst1)"
      ],
      "metadata": {
        "colab": {
          "base_uri": "https://localhost:8080/"
        },
        "id": "TsHUsWceYB7n",
        "outputId": "a473cc13-c2a3-4bba-86d2-1c3adee9ed8a"
      },
      "execution_count": 51,
      "outputs": [
        {
          "output_type": "stream",
          "name": "stdout",
          "text": [
            "[23, 43, 5, 3, 54, 65, 78]\n"
          ]
        }
      ]
    },
    {
      "cell_type": "code",
      "source": [
        "lst1=[1,2,3]\n",
        "lst1.clear()\n",
        "print(lst1)"
      ],
      "metadata": {
        "colab": {
          "base_uri": "https://localhost:8080/"
        },
        "id": "8ZLjM5f3YX_g",
        "outputId": "d8a61f4d-d04c-402e-855c-68b327732832"
      },
      "execution_count": 52,
      "outputs": [
        {
          "output_type": "stream",
          "name": "stdout",
          "text": [
            "[]\n"
          ]
        }
      ]
    },
    {
      "cell_type": "code",
      "source": [
        "lst1=[1,2,2,4,4,3,4,5]\n",
        "print(lst1.count(4))"
      ],
      "metadata": {
        "colab": {
          "base_uri": "https://localhost:8080/"
        },
        "id": "InJRupLIYsyb",
        "outputId": "b0fdc720-2b43-4350-db06-8034a9732ef0"
      },
      "execution_count": 53,
      "outputs": [
        {
          "output_type": "stream",
          "name": "stdout",
          "text": [
            "3\n"
          ]
        }
      ]
    },
    {
      "cell_type": "code",
      "source": [
        "lst1=[1,2,3,4,5,6]\n",
        "lst1.reverse()\n",
        "print(lst1)"
      ],
      "metadata": {
        "colab": {
          "base_uri": "https://localhost:8080/"
        },
        "id": "SohblaXHY4DT",
        "outputId": "f54c59e9-320d-4b82-c542-be2e9c6ee212"
      },
      "execution_count": 56,
      "outputs": [
        {
          "output_type": "stream",
          "name": "stdout",
          "text": [
            "[6, 5, 4, 3, 2, 1]\n"
          ]
        }
      ]
    },
    {
      "cell_type": "code",
      "source": [
        "l=[2,5,4,6,7,3,98,78,67]\n",
        "l.sort()\n",
        "print(l)"
      ],
      "metadata": {
        "colab": {
          "base_uri": "https://localhost:8080/"
        },
        "id": "Mc45LZyRZO11",
        "outputId": "d900030e-7c16-4ef7-99bd-660b9380482b"
      },
      "execution_count": 58,
      "outputs": [
        {
          "output_type": "stream",
          "name": "stdout",
          "text": [
            "[2, 3, 4, 5, 6, 7, 67, 78, 98]\n"
          ]
        }
      ]
    },
    {
      "cell_type": "code",
      "source": [
        "l=[1,2,3,4,5]\n",
        "l.sort(reverse=True)\n",
        "print(l)"
      ],
      "metadata": {
        "colab": {
          "base_uri": "https://localhost:8080/"
        },
        "id": "mKo_ad2dZfMw",
        "outputId": "07fc28f0-e164-40c3-fde0-c80920c8d769"
      },
      "execution_count": 59,
      "outputs": [
        {
          "output_type": "stream",
          "name": "stdout",
          "text": [
            "[5, 4, 3, 2, 1]\n"
          ]
        }
      ]
    }
  ]
}