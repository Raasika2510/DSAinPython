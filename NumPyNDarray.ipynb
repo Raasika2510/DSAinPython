{
  "nbformat": 4,
  "nbformat_minor": 0,
  "metadata": {
    "colab": {
      "provenance": []
    },
    "kernelspec": {
      "name": "python3",
      "display_name": "Python 3"
    },
    "language_info": {
      "name": "python"
    }
  },
  "cells": [
    {
      "cell_type": "markdown",
      "source": [
        "**NumPy**, the short form of Numerical Python is a scientific package that enables complex data compututions and Data Analysis using multi- dimensional arrays. The Basic features that NumPy provides are:\n",
        "\n",
        "\n",
        "*   *ndarray* - A multi_dimensional array that enables vectorized arithmetic operations and simple data representation.\n",
        "*   *Standard Mathematic Functions* - enabling simple mathematical manipulations without the use of loops just as in lists or dictionaries.\n",
        "*   *File Manipulations* - functionalities to read and write array data to files that are memory mapped\n",
        "*   *Code Integration with other languages* - enabling other packages to provide data in the form of Numpy arrays to python and to provide data to external codesources from python.\n",
        "\n",
        "Refer the official NumPy Documentation @ [NumPy Documentation](https://numpy.org/doc/)\n",
        "\n",
        "\n",
        "\n"
      ],
      "metadata": {
        "id": "LOQbn4KIKf_e"
      }
    },
    {
      "cell_type": "markdown",
      "source": [
        "*N-DIMENSIONAL ARRAYS (ndarray)* - multi-dimensional arrays that contains and enables computation in large python data sets, providing easier data manipulation just as in scalar quantities. "
      ],
      "metadata": {
        "id": "cctASWzoMbsw"
      }
    },
    {
      "cell_type": "code",
      "source": [
        "import numpy as np\n",
        "a=[1,12,13,14] #Single dimensional\n",
        "data=np.array(a)\n",
        "data"
      ],
      "metadata": {
        "colab": {
          "base_uri": "https://localhost:8080/"
        },
        "id": "m3NrvT1MMyeN",
        "outputId": "46bd4c3e-9dd4-4c6e-ee1e-0249f6654d41"
      },
      "execution_count": 4,
      "outputs": [
        {
          "output_type": "execute_result",
          "data": {
            "text/plain": [
              "array([ 1, 12, 13, 14])"
            ]
          },
          "metadata": {},
          "execution_count": 4
        }
      ]
    },
    {
      "cell_type": "code",
      "source": [
        "b=[[1,2,3],[4,5,6],[7,8,9]]\n",
        "data1=np.array(b) #Multi dimensional\n",
        "data1"
      ],
      "metadata": {
        "colab": {
          "base_uri": "https://localhost:8080/"
        },
        "id": "OHHgOGxKNctQ",
        "outputId": "d218de6a-5aae-4eb3-daf3-c7ae1ae03e5d"
      },
      "execution_count": 5,
      "outputs": [
        {
          "output_type": "execute_result",
          "data": {
            "text/plain": [
              "array([[1, 2, 3],\n",
              "       [4, 5, 6],\n",
              "       [7, 8, 9]])"
            ]
          },
          "metadata": {},
          "execution_count": 5
        }
      ]
    },
    {
      "cell_type": "code",
      "source": [
        "c=\"abc\"\n",
        "data3=np.array(c)\n",
        "data3"
      ],
      "metadata": {
        "colab": {
          "base_uri": "https://localhost:8080/"
        },
        "id": "f3D8FpRQOCFO",
        "outputId": "2f87f9cc-8a1e-4406-d77e-f1d57f775260"
      },
      "execution_count": 6,
      "outputs": [
        {
          "output_type": "execute_result",
          "data": {
            "text/plain": [
              "array('abc', dtype='<U3')"
            ]
          },
          "metadata": {},
          "execution_count": 6
        }
      ]
    },
    {
      "cell_type": "code",
      "source": [
        "#shape and dimension\n",
        "print(data1.shape) #no. of rows and columnsin the array\n",
        "print(data1.ndim) #dimension of the array"
      ],
      "metadata": {
        "colab": {
          "base_uri": "https://localhost:8080/"
        },
        "id": "Z8qoohhZOWKl",
        "outputId": "19a4939c-278b-41d4-850f-f1c3d5568cb5"
      },
      "execution_count": 10,
      "outputs": [
        {
          "output_type": "stream",
          "name": "stdout",
          "text": [
            "(3, 3)\n",
            "2\n"
          ]
        }
      ]
    },
    {
      "cell_type": "code",
      "source": [
        "#data type of the array\n",
        "print(data1.dtype)\n",
        "print(data3.dtype)"
      ],
      "metadata": {
        "colab": {
          "base_uri": "https://localhost:8080/"
        },
        "id": "482f9nuRO9L3",
        "outputId": "56ccbdbf-70d3-4ff0-e405-b631f9971b6c"
      },
      "execution_count": 12,
      "outputs": [
        {
          "output_type": "stream",
          "name": "stdout",
          "text": [
            "int64\n",
            "<U3\n"
          ]
        }
      ]
    }
  ]
}