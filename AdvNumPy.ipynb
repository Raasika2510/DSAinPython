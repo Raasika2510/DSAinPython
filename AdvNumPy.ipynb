{
  "nbformat": 4,
  "nbformat_minor": 0,
  "metadata": {
    "colab": {
      "provenance": []
    },
    "kernelspec": {
      "name": "python3",
      "display_name": "Python 3"
    },
    "language_info": {
      "name": "python"
    }
  },
  "cells": [
    {
      "cell_type": "markdown",
      "source": [
        "*DATA PROCESSING WITH NUMPY ARRAYS* - NumPy arrays enables many data processing functionalities vectorized which, otherwise must be done explicitly by looping. This method of replacing explicit looping with the use NumPy functionalities is called *vectorization*."
      ],
      "metadata": {
        "id": "NwQSPa-eT0C5"
      }
    },
    {
      "cell_type": "code",
      "execution_count": 15,
      "metadata": {
        "id": "rHjHOo95Tt_f",
        "colab": {
          "base_uri": "https://localhost:8080/"
        },
        "outputId": "410f9489-700a-4e51-d5b5-1603e62eddf4"
      },
      "outputs": [
        {
          "output_type": "stream",
          "name": "stdout",
          "text": [
            "[10.         10.4040404  10.80808081 11.21212121 11.61616162 12.02020202\n",
            " 12.42424242 12.82828283 13.23232323 13.63636364 14.04040404 14.44444444\n",
            " 14.84848485 15.25252525 15.65656566 16.06060606 16.46464646 16.86868687\n",
            " 17.27272727 17.67676768 18.08080808 18.48484848 18.88888889 19.29292929\n",
            " 19.6969697  20.1010101  20.50505051 20.90909091 21.31313131 21.71717172\n",
            " 22.12121212 22.52525253 22.92929293 23.33333333 23.73737374 24.14141414\n",
            " 24.54545455 24.94949495 25.35353535 25.75757576 26.16161616 26.56565657\n",
            " 26.96969697 27.37373737 27.77777778 28.18181818 28.58585859 28.98989899\n",
            " 29.39393939 29.7979798  30.2020202  30.60606061 31.01010101 31.41414141\n",
            " 31.81818182 32.22222222 32.62626263 33.03030303 33.43434343 33.83838384\n",
            " 34.24242424 34.64646465 35.05050505 35.45454545 35.85858586 36.26262626\n",
            " 36.66666667 37.07070707 37.47474747 37.87878788 38.28282828 38.68686869\n",
            " 39.09090909 39.49494949 39.8989899  40.3030303  40.70707071 41.11111111\n",
            " 41.51515152 41.91919192 42.32323232 42.72727273 43.13131313 43.53535354\n",
            " 43.93939394 44.34343434 44.74747475 45.15151515 45.55555556 45.95959596\n",
            " 46.36363636 46.76767677 47.17171717 47.57575758 47.97979798 48.38383838\n",
            " 48.78787879 49.19191919 49.5959596  50.        ]\n",
            "[ 60.          60.4040404   60.80808081  61.21212121  61.61616162\n",
            "  62.02020202  62.42424242  62.82828283  63.23232323  63.63636364\n",
            "  64.04040404  64.44444444  64.84848485  65.25252525  65.65656566\n",
            "  66.06060606  66.46464646  66.86868687  67.27272727  67.67676768\n",
            "  68.08080808  68.48484848  68.88888889  69.29292929  69.6969697\n",
            "  70.1010101   70.50505051  70.90909091  71.31313131  71.71717172\n",
            "  72.12121212  72.52525253  72.92929293  73.33333333  73.73737374\n",
            "  74.14141414  74.54545455  74.94949495  75.35353535  75.75757576\n",
            "  76.16161616  76.56565657  76.96969697  77.37373737  77.77777778\n",
            "  78.18181818  78.58585859  78.98989899  79.39393939  79.7979798\n",
            "  80.2020202   80.60606061  81.01010101  81.41414141  81.81818182\n",
            "  82.22222222  82.62626263  83.03030303  83.43434343  83.83838384\n",
            "  84.24242424  84.64646465  85.05050505  85.45454545  85.85858586\n",
            "  86.26262626  86.66666667  87.07070707  87.47474747  87.87878788\n",
            "  88.28282828  88.68686869  89.09090909  89.49494949  89.8989899\n",
            "  90.3030303   90.70707071  91.11111111  91.51515152  91.91919192\n",
            "  92.32323232  92.72727273  93.13131313  93.53535354  93.93939394\n",
            "  94.34343434  94.74747475  95.15151515  95.55555556  95.95959596\n",
            "  96.36363636  96.76767677  97.17171717  97.57575758  97.97979798\n",
            "  98.38383838  98.78787879  99.19191919  99.5959596  100.        ]\n"
          ]
        }
      ],
      "source": [
        "import numpy as np\n",
        "import pandas as pd\n",
        "import matplotlib.pyplot as plt\n",
        "\n",
        "#linspace is used for generating data for visualization\n",
        "data = np.linspace(start=10,stop=50,num=100) \n",
        "print(data)\n",
        "data1 = np.linspace(start=60,stop=100,num=100)\n",
        "print(data1)"
      ]
    },
    {
      "cell_type": "code",
      "source": [
        "#Returns coordinate matrices from coordinate arrays\n",
        "x,y=np.meshgrid(data,data1) \n",
        "print(x.shape)\n",
        "print(y.shape)\n",
        "print(x.ndim)\n",
        "print(y.ndim)"
      ],
      "metadata": {
        "colab": {
          "base_uri": "https://localhost:8080/"
        },
        "id": "FVUq3WTzwZ20",
        "outputId": "a2fc8062-f907-40eb-a672-9f160257b93b"
      },
      "execution_count": 16,
      "outputs": [
        {
          "output_type": "stream",
          "name": "stdout",
          "text": [
            "(100, 100)\n",
            "(100, 100)\n",
            "2\n",
            "2\n"
          ]
        }
      ]
    },
    {
      "cell_type": "code",
      "source": [
        "#Evaluating a function\n",
        "print(z)\n",
        "z = np.sqrt(x ** 2 + y ** 2) "
      ],
      "metadata": {
        "colab": {
          "base_uri": "https://localhost:8080/"
        },
        "id": "pUWKZEIdyn4L",
        "outputId": "4a4312e2-762a-42ee-a739-462d3a836904"
      },
      "execution_count": 21,
      "outputs": [
        {
          "output_type": "stream",
          "name": "stdout",
          "text": [
            "[[ 60.8276253   60.89535333  60.96568388 ...  77.58765955  77.84445522\n",
            "   78.10249676]\n",
            " [ 61.22620433  61.29349194  61.36336617 ...  77.9005328   78.15630048\n",
            "   78.41331582]\n",
            " [ 61.6248545   61.69170729  61.761131   ...  78.2142417   78.46898687\n",
            "   78.72498137]\n",
            " ...\n",
            " [ 99.69471818  99.73605612  99.77901304 ... 110.71983448 110.89993707\n",
            "  111.08121728]\n",
            " [100.09672906 100.13790104 100.18068566 ... 111.0819521  111.26146851\n",
            "  111.44216064]\n",
            " [100.49875621 100.53976356 100.58237724 ... 111.44435793 111.62329151\n",
            "  111.80339887]]\n"
          ]
        }
      ]
    },
    {
      "cell_type": "code",
      "source": [
        "plt.imshow(z, cmap=plt.cm.gray); plt.colorbar() #visualizing the data points using imshow from matplotlib"
      ],
      "metadata": {
        "colab": {
          "base_uri": "https://localhost:8080/",
          "height": 450
        },
        "id": "OO8yOOlzzQKK",
        "outputId": "1ea92855-f4d9-44e0-c514-c1bae7aa25c0"
      },
      "execution_count": 22,
      "outputs": [
        {
          "output_type": "execute_result",
          "data": {
            "text/plain": [
              "<matplotlib.colorbar.Colorbar at 0x7f87b74cf1c0>"
            ]
          },
          "metadata": {},
          "execution_count": 22
        },
        {
          "output_type": "display_data",
          "data": {
            "text/plain": [
              "<Figure size 640x480 with 2 Axes>"
            ],
            "image/png": "[encoded data removed]"
          },
          "metadata": {}
        }
      ]
    },
    {
      "cell_type": "markdown",
      "source": [
        "*CONDITIONAL LOGIC AS ARRAY OPERATIONS* - The np.where() function is a vectorized for of ternary operator (condition ? true_statements : false_statement) that indicidually evaluates a condition with each element of the array"
      ],
      "metadata": {
        "id": "QV23dj9V0Vwp"
      }
    },
    {
      "cell_type": "code",
      "source": [
        "a=np.array([1,2,3,4,5])\n",
        "c=np.array([6,7,8,9,10])\n",
        "b=np.array([True,False,True,False,True])\n",
        "\n",
        "#Conditional iterational using loop and if-else \n",
        "result=[(a if b else c) for a,b,c in zip(a,b,c)]\n",
        "print(result)\n",
        "\n",
        "#np.where alternative\n",
        "res1=np.where(b,a,c)\n",
        "print(res1)"
      ],
      "metadata": {
        "colab": {
          "base_uri": "https://localhost:8080/"
        },
        "id": "S7LrGR_Z2nrh",
        "outputId": "4d5e8c31-9e33-4b3f-9598-2d02001138cc"
      },
      "execution_count": 26,
      "outputs": [
        {
          "output_type": "stream",
          "name": "stdout",
          "text": [
            "[1, 7, 3, 9, 5]\n",
            "[1 7 3 9 5]\n"
          ]
        }
      ]
    },
    {
      "cell_type": "code",
      "source": [
        "s1=np.random.randn(3,3)\n",
        "print(s1)\n",
        "s2=np.where(s1>0,1,0)\n",
        "print(s2)"
      ],
      "metadata": {
        "colab": {
          "base_uri": "https://localhost:8080/"
        },
        "id": "50DRygBi34ex",
        "outputId": "31e9e2fd-85bc-42b4-f3a2-a587ac92d626"
      },
      "execution_count": 28,
      "outputs": [
        {
          "output_type": "stream",
          "name": "stdout",
          "text": [
            "[[-1.09002931  1.23472189 -0.56766383]\n",
            " [-0.24733606 -1.2848017   0.47342962]\n",
            " [-0.01095071  0.6692039   0.59170337]]\n",
            "[[0 1 0]\n",
            " [0 0 1]\n",
            " [0 1 1]]\n"
          ]
        }
      ]
    },
    {
      "cell_type": "code",
      "source": [
        "#Nested Where Clause to solve much more complex conditional problems\n",
        "sem1=[True,True,True,False,False,True,False,True]\n",
        "sem2=[False,True,True,True,False,True,False,True]\n",
        "result= np.where(sem1 and sem2, 0,\n",
        "                 np.where(sem1, 1,\n",
        "                          np.where(sem2, 2, 12)))"
      ],
      "metadata": {
        "id": "1RkPVb6H4KzO"
      },
      "execution_count": 45,
      "outputs": []
    },
    {
      "cell_type": "code",
      "source": [
        "result"
      ],
      "metadata": {
        "colab": {
          "base_uri": "https://localhost:8080/"
        },
        "id": "l9yeQAua2Klj",
        "outputId": "d44f4069-e5f9-4a3b-95bb-9e08f7ca1716"
      },
      "execution_count": 46,
      "outputs": [
        {
          "output_type": "execute_result",
          "data": {
            "text/plain": [
              "array([ 1,  0,  0,  0, 12,  0, 12,  0])"
            ]
          },
          "metadata": {},
          "execution_count": 46
        }
      ]
    },
    {
      "cell_type": "markdown",
      "source": [
        "*MATHEMATICAL AND STATISTICAL FUNCTIONS* - Universal functions for performing mathematical and statistical manipulations. Eg : sum, mean, cumprod, cumsum, std, var, argmin, argmax, etc."
      ],
      "metadata": {
        "id": "GEiFi_RS_AKe"
      }
    },
    {
      "cell_type": "code",
      "source": [
        "arr = np.random.randn(3,4)\n",
        "#mean()\n",
        "print(arr.mean())\n",
        "#sum\n",
        "print(arr.sum())\n",
        "#mean along columns\n",
        "print(arr.mean(axis=0))\n",
        "#mean along rows\n",
        "print(arr.mean(axis=1))\n",
        "#cummulative sum along rows\n",
        "print(arr.cumsum(axis=1))\n",
        "#cummulative product along columns\n",
        "print(arr.cumprod(axis=0))\n",
        "#Index for max and min elements along columns and rows\n",
        "print(arr.argmax(axis=1),arr.argmin(axis=0))"
      ],
      "metadata": {
        "colab": {
          "base_uri": "https://localhost:8080/"
        },
        "id": "mhzA_gBf_oR6",
        "outputId": "80df5ea1-244f-459d-8554-2585ee88d116"
      },
      "execution_count": 55,
      "outputs": [
        {
          "output_type": "stream",
          "name": "stdout",
          "text": [
            "0.08593359115699963\n",
            "1.0312030938839956\n",
            "[-0.14419747  0.63506814 -0.20652881  0.05939251]\n",
            "[-0.31190511  0.89448815 -0.32478227]\n",
            "[[-0.93578024 -0.72381803 -1.20935674 -1.24762043]\n",
            " [ 0.63305059  1.95119814  2.63920086  3.57795259]\n",
            " [-0.12986277  0.24523189 -0.57681855 -1.29912906]]\n",
            "[[-0.93578024  0.21196221 -0.48553872 -0.03826369]\n",
            " [-0.59239623  0.27939747 -0.33405196 -0.0359201 ]\n",
            " [ 0.07693021  0.1048005   0.27460756  0.02594547]]\n",
            "[1 1 1] [0 0 2 2]\n"
          ]
        }
      ]
    },
    {
      "cell_type": "markdown",
      "source": [
        "*BOOLEAN METHODS - ALL , ANY*"
      ],
      "metadata": {
        "id": "jzHEdwYyBEIp"
      }
    },
    {
      "cell_type": "code",
      "source": [
        "#using boolean results for summation\n",
        "a=np.random.randn(10)\n",
        "print(a)\n",
        "sum=(a>0).sum()\n",
        "print(sum)"
      ],
      "metadata": {
        "colab": {
          "base_uri": "https://localhost:8080/"
        },
        "id": "iwWofOpQBODI",
        "outputId": "5226b6f4-5bf5-4f28-d131-2444f439b756"
      },
      "execution_count": 60,
      "outputs": [
        {
          "output_type": "stream",
          "name": "stdout",
          "text": [
            "[-0.25339253  0.80769286 -0.09511479 -0.4955502  -0.77452899  1.55530003\n",
            " -1.45338356 -0.15200457 -0.23675061  0.27067926]\n",
            "3\n"
          ]
        }
      ]
    },
    {
      "cell_type": "code",
      "source": [
        "#AND and OR gate for ndarrays\n",
        "b=np.array([True,False,True,False,True])\n",
        "print(b.all())#Generates True if all the elements are true\n",
        "print(b.any())#Generates True if any of the element is true\n"
      ],
      "metadata": {
        "colab": {
          "base_uri": "https://localhost:8080/"
        },
        "id": "KPGDKqk_FfbG",
        "outputId": "2b0dc5db-be75-4185-9dbd-4eea6d9b0b0e"
      },
      "execution_count": 62,
      "outputs": [
        {
          "output_type": "stream",
          "name": "stdout",
          "text": [
            "False\n",
            "True\n"
          ]
        }
      ]
    },
    {
      "cell_type": "markdown",
      "source": [
        "*SORTING*"
      ],
      "metadata": {
        "id": "DIfc8DNZHGbL"
      }
    },
    {
      "cell_type": "code",
      "source": [
        "x = np.random.rand(3,4)\n",
        "print(x)"
      ],
      "metadata": {
        "colab": {
          "base_uri": "https://localhost:8080/"
        },
        "id": "xY-Bd0ztGsj4",
        "outputId": "8626e437-d827-4b9c-c494-30e038cc5994"
      },
      "execution_count": 77,
      "outputs": [
        {
          "output_type": "stream",
          "name": "stdout",
          "text": [
            "[[0.79831298 0.63826819 0.58474557 0.39843537]\n",
            " [0.62765756 0.89208732 0.65597052 0.84319879]\n",
            " [0.24547261 0.4059952  0.44986517 0.74731006]]\n"
          ]
        }
      ]
    },
    {
      "cell_type": "code",
      "source": [
        "x.sort()\n",
        "print(x)"
      ],
      "metadata": {
        "colab": {
          "base_uri": "https://localhost:8080/"
        },
        "id": "HfzFOLn3HoHZ",
        "outputId": "6a6868b6-6efa-4e52-9da2-0458512aef93"
      },
      "execution_count": 75,
      "outputs": [
        {
          "output_type": "stream",
          "name": "stdout",
          "text": [
            "[[0.50357129 0.54344208 0.56987725 0.61024552]\n",
            " [0.07994254 0.24251659 0.47701381 0.66336385]\n",
            " [0.16229149 0.29042359 0.3103241  0.56303202]]\n"
          ]
        }
      ]
    },
    {
      "cell_type": "code",
      "source": [
        "x.sort(0)\n",
        "print(x)"
      ],
      "metadata": {
        "colab": {
          "base_uri": "https://localhost:8080/"
        },
        "id": "iKXfAsYlH6MP",
        "outputId": "5bf25fcf-ab66-4eea-fa9d-8f0011ea7407"
      },
      "execution_count": 79,
      "outputs": [
        {
          "output_type": "stream",
          "name": "stdout",
          "text": [
            "[[0.24547261 0.4059952  0.44986517 0.74731006]\n",
            " [0.39843537 0.58474557 0.63826819 0.79831298]\n",
            " [0.62765756 0.65597052 0.84319879 0.89208732]]\n"
          ]
        }
      ]
    },
    {
      "cell_type": "code",
      "source": [
        "#Returns a sorted copy of array \n",
        "s=np.sort(x)\n",
        "print(s)"
      ],
      "metadata": {
        "colab": {
          "base_uri": "https://localhost:8080/"
        },
        "id": "hgRql3fjIPtu",
        "outputId": "a0ba23d3-6871-4f72-ad55-2113db17c13b"
      },
      "execution_count": 80,
      "outputs": [
        {
          "output_type": "stream",
          "name": "stdout",
          "text": [
            "[[0.24547261 0.4059952  0.44986517 0.74731006]\n",
            " [0.39843537 0.58474557 0.63826819 0.79831298]\n",
            " [0.62765756 0.65597052 0.84319879 0.89208732]]\n"
          ]
        }
      ]
    },
    {
      "cell_type": "markdown",
      "source": [
        "*SET LOGICS*"
      ],
      "metadata": {
        "id": "sVZwPREUIpok"
      }
    },
    {
      "cell_type": "code",
      "source": [
        "#UNIQUE\n",
        "names=np.array(['a','b','c','a','b','e','b'])\n",
        "np.unique(names)"
      ],
      "metadata": {
        "colab": {
          "base_uri": "https://localhost:8080/"
        },
        "id": "-IuRVyyBItvv",
        "outputId": "c208b316-a414-4b99-89ec-1ae26b24be13"
      },
      "execution_count": 81,
      "outputs": [
        {
          "output_type": "execute_result",
          "data": {
            "text/plain": [
              "array(['a', 'b', 'c', 'e'], dtype='<U1')"
            ]
          },
          "metadata": {},
          "execution_count": 81
        }
      ]
    },
    {
      "cell_type": "code",
      "source": [
        "#MEMBERSHIP\n",
        "ints=np.array([1,2,3,4,5,6,7])\n",
        "np.in1d(ints,[3,4,5])"
      ],
      "metadata": {
        "colab": {
          "base_uri": "https://localhost:8080/"
        },
        "id": "7SBWlEU2Jbo3",
        "outputId": "8facb531-ea01-43a2-93af-09609c232a50"
      },
      "execution_count": 82,
      "outputs": [
        {
          "output_type": "execute_result",
          "data": {
            "text/plain": [
              "array([False, False,  True,  True,  True, False, False])"
            ]
          },
          "metadata": {},
          "execution_count": 82
        }
      ]
    },
    {
      "cell_type": "code",
      "source": [
        "#INTERSECTION\n",
        "ints1=np.array([3,4,5])\n",
        "np.intersect1d(ints,ints1)"
      ],
      "metadata": {
        "colab": {
          "base_uri": "https://localhost:8080/"
        },
        "id": "hpWqVv-ZJ1Qv",
        "outputId": "691b589a-e345-4217-be2f-7e538e7ddee2"
      },
      "execution_count": 83,
      "outputs": [
        {
          "output_type": "execute_result",
          "data": {
            "text/plain": [
              "array([3, 4, 5])"
            ]
          },
          "metadata": {},
          "execution_count": 83
        }
      ]
    },
    {
      "cell_type": "code",
      "source": [
        "#UNION\n",
        "ints2=np.array([34,54,76])\n",
        "np.union1d(ints,ints2)"
      ],
      "metadata": {
        "colab": {
          "base_uri": "https://localhost:8080/"
        },
        "id": "zFfScoZJKJ_I",
        "outputId": "1c873d10-8042-4512-a879-5530392a3ce5"
      },
      "execution_count": 84,
      "outputs": [
        {
          "output_type": "execute_result",
          "data": {
            "text/plain": [
              "array([ 1,  2,  3,  4,  5,  6,  7, 34, 54, 76])"
            ]
          },
          "metadata": {},
          "execution_count": 84
        }
      ]
    },
    {
      "cell_type": "code",
      "source": [
        "#Set Difference\n",
        "np.setdiff1d(ints,ints1)"
      ],
      "metadata": {
        "colab": {
          "base_uri": "https://localhost:8080/"
        },
        "id": "mDDqgRktKaxJ",
        "outputId": "a21f1df1-c952-4b27-a179-a8fb7da221f5"
      },
      "execution_count": 85,
      "outputs": [
        {
          "output_type": "execute_result",
          "data": {
            "text/plain": [
              "array([1, 2, 6, 7])"
            ]
          },
          "metadata": {},
          "execution_count": 85
        }
      ]
    },
    {
      "cell_type": "code",
      "source": [
        "#Set XOR Gate\n",
        "np.setxor1d(ints,ints1)"
      ],
      "metadata": {
        "colab": {
          "base_uri": "https://localhost:8080/"
        },
        "id": "yXo8Ru4SKwwk",
        "outputId": "054db0b1-0c01-4432-8713-f57ca74b401b"
      },
      "execution_count": 86,
      "outputs": [
        {
          "output_type": "execute_result",
          "data": {
            "text/plain": [
              "array([1, 2, 6, 7])"
            ]
          },
          "metadata": {},
          "execution_count": 86
        }
      ]
    },
    {
      "cell_type": "markdown",
      "source": [
        "*STORING ARRAY IN BINARY FORMAT* - np.save and np.load are two main functions used for loading and saving the arrays into the local disks.By default, arrays are stored as uncompressed binary files with the extension *.npy*"
      ],
      "metadata": {
        "id": "i4JOOxuGLdL-"
      }
    },
    {
      "cell_type": "code",
      "source": [
        "#To save an array to the disk\n",
        "arr=np.arange(30).reshape(2,3,5)\n",
        "np.save(\"Store_array\",arr)"
      ],
      "metadata": {
        "id": "bJQSUK_YMvum"
      },
      "execution_count": 87,
      "outputs": []
    },
    {
      "cell_type": "code",
      "source": [
        "#To load the saved array from the disk\n",
        "np.load(\"Store_array.npy\")"
      ],
      "metadata": {
        "colab": {
          "base_uri": "https://localhost:8080/"
        },
        "id": "wzakzJzuNLqW",
        "outputId": "c43b15f3-33b4-4456-b1b1-0906e074b6ac"
      },
      "execution_count": 88,
      "outputs": [
        {
          "output_type": "execute_result",
          "data": {
            "text/plain": [
              "array([[[ 0,  1,  2,  3,  4],\n",
              "        [ 5,  6,  7,  8,  9],\n",
              "        [10, 11, 12, 13, 14]],\n",
              "\n",
              "       [[15, 16, 17, 18, 19],\n",
              "        [20, 21, 22, 23, 24],\n",
              "        [25, 26, 27, 28, 29]]])"
            ]
          },
          "metadata": {},
          "execution_count": 88
        }
      ]
    },
    {
      "cell_type": "code",
      "source": [
        "arr1=np.arange(20).reshape(2,5,2)\n",
        "#To store two or more arrays in zipped format\n",
        "np.savez(\"Array_zipped.npz\",a=arr,b=arr1)"
      ],
      "metadata": {
        "id": "3aOUxZfWNWHF"
      },
      "execution_count": 89,
      "outputs": []
    },
    {
      "cell_type": "code",
      "source": [
        "#Loading zipped array from the disk\n",
        "arch=np.load(\"Array_zipped.npz\")\n",
        "arch['b']"
      ],
      "metadata": {
        "colab": {
          "base_uri": "https://localhost:8080/"
        },
        "id": "4ikjj8GpNwz4",
        "outputId": "2228f9c2-e1bc-4587-a802-da44e69e6aca"
      },
      "execution_count": 91,
      "outputs": [
        {
          "output_type": "execute_result",
          "data": {
            "text/plain": [
              "array([[[ 0,  1],\n",
              "        [ 2,  3],\n",
              "        [ 4,  5],\n",
              "        [ 6,  7],\n",
              "        [ 8,  9]],\n",
              "\n",
              "       [[10, 11],\n",
              "        [12, 13],\n",
              "        [14, 15],\n",
              "        [16, 17],\n",
              "        [18, 19]]])"
            ]
          },
          "metadata": {},
          "execution_count": 91
        }
      ]
    },
    {
      "cell_type": "markdown",
      "source": [
        "*LINEAR ALGEBRA* - Matrix multiplication, decomposition, determinants, and other square matrix maths. "
      ],
      "metadata": {
        "id": "z7yC0RWJOFbL"
      }
    },
    {
      "cell_type": "code",
      "source": [
        "x=np.random.randn(3,2)\n",
        "y=np.random.randn(2,3)\n",
        "#Dot Product or Matrix Multiplication\n",
        "x.dot(y)"
      ],
      "metadata": {
        "colab": {
          "base_uri": "https://localhost:8080/"
        },
        "id": "XsAKrUDTOq19",
        "outputId": "d9850d86-425b-4ff1-966b-d65953c1a3fd"
      },
      "execution_count": 92,
      "outputs": [
        {
          "output_type": "execute_result",
          "data": {
            "text/plain": [
              "array([[-0.7793568 , -0.46773375, -0.46135514],\n",
              "       [-3.26187088, -0.86519431, -0.08796473],\n",
              "       [-2.08832069, -0.18770652,  0.56149028]])"
            ]
          },
          "metadata": {},
          "execution_count": 92
        }
      ]
    }
  ]
}